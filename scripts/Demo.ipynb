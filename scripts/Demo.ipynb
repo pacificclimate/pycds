{
 "cells": [
  {
   "cell_type": "markdown",
   "metadata": {},
   "source": [
    "# Using the PyCDS package as an interface to the Provincial Climate Data Set database"
   ]
  },
  {
   "cell_type": "code",
   "execution_count": 1,
   "metadata": {
    "collapsed": true
   },
   "outputs": [],
   "source": [
    "import datetime\n",
    "\n",
    "from pycds import *\n",
    "from sqlalchemy import create_engine\n",
    "from sqlalchemy.orm import sessionmaker\n",
    "from sqlalchemy import and_, or_"
   ]
  },
  {
   "cell_type": "markdown",
   "metadata": {},
   "source": [
    "We need to do a few things to set up our database session, and then the session object is used to make all our queries"
   ]
  },
  {
   "cell_type": "code",
   "execution_count": 2,
   "metadata": {
    "collapsed": true
   },
   "outputs": [],
   "source": [
    "connection_string = 'postgresql+psycopg2://hiebert@atlas.pcic/crmp'\n",
    "engine = create_engine(connection_string)\n",
    "Session = sessionmaker(bind=engine)\n",
    "session = Session()"
   ]
  },
  {
   "cell_type": "markdown",
   "metadata": {},
   "source": [
    "Query and print the names of all networks in the database"
   ]
  },
  {
   "cell_type": "code",
   "execution_count": 3,
   "metadata": {
    "collapsed": false
   },
   "outputs": [
    {
     "name": "stdout",
     "output_type": "stream",
     "text": [
      "AGRI\n",
      "ARD\n",
      "ARDA\n",
      "BCH\n",
      "EC\n",
      "EC_AHCCD\n",
      "EC_Buoy\n",
      "EC_raw\n",
      "ENV-AQN\n",
      "ENV-ASP\n",
      "FLNRO-FERN\n",
      "FLNRO-WMB\n",
      "FRBC\n",
      "MoTI\n",
      "MoTIe\n",
      "MoTIm\n",
      "MVan\n",
      "RTA\n"
     ]
    }
   ],
   "source": [
    "for net, in session.query(Network.name).order_by(Network.name):\n",
    "    print(net)"
   ]
  },
  {
   "cell_type": "markdown",
   "metadata": {},
   "source": [
    "Print the first 10 stations in the EC network when ordered ascencding"
   ]
  },
  {
   "cell_type": "code",
   "execution_count": 4,
   "metadata": {
    "collapsed": false
   },
   "outputs": [
    {
     "name": "stdout",
     "output_type": "stream",
     "text": [
      "0110031\n",
      "0260011\n",
      "0450270\n",
      "0770703\n",
      "0770705\n",
      "0770708\n",
      "08GA071\n",
      "08GE003\n",
      "08GF005\n",
      "08GF006\n"
     ]
    }
   ],
   "source": [
    "for station in session.query(Station).filter(Network.name=='EC').order_by(Station.native_id.asc())[:10]:\n",
    "    print(station.native_id)"
   ]
  },
  {
   "cell_type": "markdown",
   "metadata": {},
   "source": [
    "Count the observations for station 1010066 in the EC network\n",
    "We must use explicit query joins here or sqlalchemy creates ridculous crossjoins and subqueries"
   ]
  },
  {
   "cell_type": "code",
   "execution_count": 5,
   "metadata": {
    "collapsed": false
   },
   "outputs": [
    {
     "name": "stdout",
     "output_type": "stream",
     "text": [
      "15857\n"
     ]
    }
   ],
   "source": [
    "query = session.query(Obs).join(History).join(Station).join(Network).filter(Network.name=='EC').filter(Station.native_id=='1010066')\n",
    "print(query.count())"
   ]
  },
  {
   "cell_type": "markdown",
   "metadata": {},
   "source": [
    "Find all history_ids for station 1010066 in the EC network using filter criteria"
   ]
  },
  {
   "cell_type": "code",
   "execution_count": 6,
   "metadata": {
    "collapsed": false
   },
   "outputs": [
    {
     "name": "stdout",
     "output_type": "stream",
     "text": [
      "404\n"
     ]
    }
   ],
   "source": [
    "for hist, in session.query(History.id).filter(History.station_id==Station.id).filter(and_(Station.native_id=='1010066', Network.name=='EC')):\n",
    "    print(hist)"
   ]
  },
  {
   "cell_type": "markdown",
   "metadata": {},
   "source": [
    "Find all history ids representing EC native_id 1010066 using explicit joins"
   ]
  },
  {
   "cell_type": "code",
   "execution_count": 7,
   "metadata": {
    "collapsed": false
   },
   "outputs": [
    {
     "name": "stdout",
     "output_type": "stream",
     "text": [
      "404\n"
     ]
    }
   ],
   "source": [
    "for hist, in session.query(History.id).join(Station).join(Network).filter(Network.name=='EC').filter(Station.native_id=='1010066'):\n",
    "    print(hist)"
   ]
  },
  {
   "cell_type": "markdown",
   "metadata": {},
   "source": [
    "Count the number of observations from this year"
   ]
  },
  {
   "cell_type": "code",
   "execution_count": 8,
   "metadata": {
    "collapsed": false
   },
   "outputs": [
    {
     "name": "stdout",
     "output_type": "stream",
     "text": [
      "13226315\n"
     ]
    }
   ],
   "source": [
    "this_year = datetime.datetime(2015, 1, 1)\n",
    "q = session.query(Obs).filter(Obs.time >= this_year)\n",
    "print(q.count())"
   ]
  },
  {
   "cell_type": "markdown",
   "metadata": {
    "collapsed": true
   },
   "source": [
    "You can access related objects through object attributes. For example, each Network object has a list of its stations in the `stations` attribute and a list of each available network variable in the `variables` object. These are Python native objects, all with the proper typing."
   ]
  },
  {
   "cell_type": "code",
   "execution_count": 9,
   "metadata": {
    "collapsed": false
   },
   "outputs": [
    {
     "data": {
      "text/plain": [
       "u'ENV-ASP'"
      ]
     },
     "execution_count": 9,
     "metadata": {},
     "output_type": "execute_result"
    }
   ],
   "source": [
    "q = session.query(Network)\n",
    "net = q.first()\n",
    "net.name"
   ]
  },
  {
   "cell_type": "code",
   "execution_count": 10,
   "metadata": {
    "collapsed": false
   },
   "outputs": [
    {
     "data": {
      "text/plain": [
       "[<pycds.Station at 0x7f6690bea710>,\n",
       " <pycds.Station at 0x7f6690bea8d0>,\n",
       " <pycds.Station at 0x7f6690bea790>,\n",
       " <pycds.Station at 0x7f6690bea9d0>,\n",
       " <pycds.Station at 0x7f6690bea210>,\n",
       " <pycds.Station at 0x7f6690bfc1d0>,\n",
       " <pycds.Station at 0x7f6690bfc710>,\n",
       " <pycds.Station at 0x7f6690bfc7d0>,\n",
       " <pycds.Station at 0x7f6690bfc890>,\n",
       " <pycds.Station at 0x7f6690bfc950>,\n",
       " <pycds.Station at 0x7f6690bfca10>,\n",
       " <pycds.Station at 0x7f6690bfcad0>,\n",
       " <pycds.Station at 0x7f6690bfcb90>,\n",
       " <pycds.Station at 0x7f6690bfcc50>,\n",
       " <pycds.Station at 0x7f6690bfcd10>,\n",
       " <pycds.Station at 0x7f6690bfcdd0>,\n",
       " <pycds.Station at 0x7f6690bfce90>,\n",
       " <pycds.Station at 0x7f6690bfcf50>,\n",
       " <pycds.Station at 0x7f6690b97050>,\n",
       " <pycds.Station at 0x7f6690b97110>,\n",
       " <pycds.Station at 0x7f6690b971d0>,\n",
       " <pycds.Station at 0x7f6690b97290>,\n",
       " <pycds.Station at 0x7f6690b97350>,\n",
       " <pycds.Station at 0x7f6690b97410>,\n",
       " <pycds.Station at 0x7f66a4070c10>,\n",
       " <pycds.Station at 0x7f66a5b97c50>,\n",
       " <pycds.Station at 0x7f6690b974d0>,\n",
       " <pycds.Station at 0x7f6690b97590>,\n",
       " <pycds.Station at 0x7f6690b97650>,\n",
       " <pycds.Station at 0x7f6690b97710>,\n",
       " <pycds.Station at 0x7f6690b977d0>,\n",
       " <pycds.Station at 0x7f6690b97890>,\n",
       " <pycds.Station at 0x7f6690b97950>,\n",
       " <pycds.Station at 0x7f6690b97a10>,\n",
       " <pycds.Station at 0x7f6690b97ad0>,\n",
       " <pycds.Station at 0x7f6690b97b90>,\n",
       " <pycds.Station at 0x7f6690b97c50>,\n",
       " <pycds.Station at 0x7f6690b97d10>,\n",
       " <pycds.Station at 0x7f6690b97dd0>,\n",
       " <pycds.Station at 0x7f6690b97e90>,\n",
       " <pycds.Station at 0x7f6690b97f50>,\n",
       " <pycds.Station at 0x7f6690b9b050>,\n",
       " <pycds.Station at 0x7f6690b9b110>,\n",
       " <pycds.Station at 0x7f6690b9b1d0>,\n",
       " <pycds.Station at 0x7f6690b9b290>,\n",
       " <pycds.Station at 0x7f6690b9b350>,\n",
       " <pycds.Station at 0x7f6690b9b410>,\n",
       " <pycds.Station at 0x7f6690b9b4d0>,\n",
       " <pycds.Station at 0x7f6690b9b590>,\n",
       " <pycds.Station at 0x7f6690b9b650>,\n",
       " <pycds.Station at 0x7f6690b9b710>,\n",
       " <pycds.Station at 0x7f6690b9b7d0>,\n",
       " <pycds.Station at 0x7f6690b9b890>,\n",
       " <pycds.Station at 0x7f6690b9b950>,\n",
       " <pycds.Station at 0x7f6690b9ba10>,\n",
       " <pycds.Station at 0x7f6690b9bad0>,\n",
       " <pycds.Station at 0x7f6690b9bb90>,\n",
       " <pycds.Station at 0x7f6690b9bc50>,\n",
       " <pycds.Station at 0x7f6690b9bd10>,\n",
       " <pycds.Station at 0x7f6690b9bdd0>,\n",
       " <pycds.Station at 0x7f6690b9be90>,\n",
       " <pycds.Station at 0x7f6690b9bf50>,\n",
       " <pycds.Station at 0x7f6690ba3050>,\n",
       " <pycds.Station at 0x7f6690ba3110>,\n",
       " <pycds.Station at 0x7f6690ba31d0>,\n",
       " <pycds.Station at 0x7f6690ba3290>,\n",
       " <pycds.Station at 0x7f6690ba3350>,\n",
       " <pycds.Station at 0x7f6690ba3410>,\n",
       " <pycds.Station at 0x7f6690ba34d0>,\n",
       " <pycds.Station at 0x7f6690ba3590>,\n",
       " <pycds.Station at 0x7f6690ba3650>]"
      ]
     },
     "execution_count": 10,
     "metadata": {},
     "output_type": "execute_result"
    }
   ],
   "source": [
    "net.stations"
   ]
  },
  {
   "cell_type": "code",
   "execution_count": 11,
   "metadata": {
    "collapsed": false
   },
   "outputs": [
    {
     "name": "stdout",
     "output_type": "stream",
     "text": [
      "(2572, u'4B16P')\n",
      "(2522, u'1C18P')\n",
      "(2542, u'2A17P')\n",
      "(2562, u'3B17P')\n",
      "(2561, u'3A25P')\n",
      "(2528, u'1D12P')\n",
      "(2563, u'3B23P')\n",
      "(2514, u'1A03P')\n",
      "(2539, u'1F03P')\n",
      "(2557, u'3A17P')\n",
      "(2534, u'1E02P')\n",
      "(2568, u'4A29P')\n",
      "(2546, u'2B08P')\n",
      "(2549, u'2C10P')\n",
      "(2531, u'1D17P')\n",
      "(2536, u'1E10P')\n",
      "(2527, u'1D11P')\n",
      "(2577, u'4C14P')\n",
      "(2519, u'1B02P')\n",
      "(2533, u'1D19P')\n",
      "(2547, u'2C09P')\n",
      "(2558, u'3A22P')\n",
      "(2582, u'4D14P')\n",
      "(2543, u'2A21P')\n",
      "(2575, u'4C09P')\n",
      "(2569, u'4A30P')\n",
      "(2541, u'2A06P')\n",
      "(2520, u'1B08P')\n",
      "(2532, u'1D18P')\n",
      "(2560, u'3A24P')\n",
      "(2525, u'1D06P')\n",
      "(2581, u'4D13P')\n",
      "(2529, u'1D14P')\n",
      "(2540, u'1F06P')\n",
      "(2579, u'4D10P')\n",
      "(2556, u'2G03P')\n",
      "(2521, u'1C12P')\n",
      "(2559, u'3A23P')\n",
      "(2548, u'2C09Q')\n",
      "(2545, u'2B06P')\n",
      "(2513, u'1A02P')\n",
      "(2518, u'1B01P')\n",
      "(2517, u'1A19P')\n",
      "(2516, u'1A17P')\n",
      "(2576, u'4C11P')\n",
      "(2538, u'1E14P')\n",
      "(2512, u'1A01P')\n",
      "(2566, u'4A09P')\n",
      "(2565, u'4A02P')\n",
      "(2552, u'2D14P')\n",
      "(2515, u'1A14P')\n",
      "(2574, u'4B18P')\n",
      "(2550, u'2C14P')\n",
      "(2554, u'2F05P')\n",
      "(2573, u'4B17P')\n",
      "(2526, u'1D09P')\n",
      "(2535, u'1E08P')\n",
      "(2570, u'4B12P')\n",
      "(2551, u'2D08P')\n",
      "(2555, u'2F18P')\n",
      "(2567, u'4A27P')\n",
      "(2523, u'1C20P')\n",
      "(2578, u'4D08P')\n",
      "(2537, u'1E11P')\n",
      "(2524, u'1C41P')\n",
      "(2571, u'4B15P')\n",
      "(2544, u'2A30P')\n",
      "(2580, u'4D11P')\n",
      "(2553, u'2E07P')\n",
      "(2564, u'3C08P')\n",
      "(2530, u'1D15P')\n"
     ]
    }
   ],
   "source": [
    "for s in net.stations:\n",
    "    print(s.id, s.native_id)"
   ]
  },
  {
   "cell_type": "markdown",
   "metadata": {},
   "source": [
    "Note that the station id, which is an integer in the database, is automatically an integer when we access it as well. Likewise for the native_id which are free form strings in the database and here in Python."
   ]
  },
  {
   "cell_type": "code",
   "execution_count": 12,
   "metadata": {
    "collapsed": false
   },
   "outputs": [
    {
     "data": {
      "text/plain": [
       "[<pycds.Variable at 0x7f6690ba7cd0>,\n",
       " <pycds.Variable at 0x7f6690ba7d50>,\n",
       " <pycds.Variable at 0x7f6690ba7dd0>,\n",
       " <pycds.Variable at 0x7f6690ba7e50>,\n",
       " <pycds.Variable at 0x7f6690ba7ed0>,\n",
       " <pycds.Variable at 0x7f6690ba7f90>,\n",
       " <pycds.Variable at 0x7f6690bb7090>,\n",
       " <pycds.Variable at 0x7f6690bb7150>,\n",
       " <pycds.Variable at 0x7f6690bb7210>,\n",
       " <pycds.Variable at 0x7f6690bb72d0>]"
      ]
     },
     "execution_count": 12,
     "metadata": {},
     "output_type": "execute_result"
    }
   ],
   "source": [
    "net.variables"
   ]
  },
  {
   "cell_type": "code",
   "execution_count": 13,
   "metadata": {
    "collapsed": false
   },
   "outputs": [
    {
     "name": "stdout",
     "output_type": "stream",
     "text": [
      "(u'air_temperature', u'celsius')\n",
      "(u'surface_snow_thickness', u'cm')\n",
      "(u'thickness_of_snowfall_amount', u'cm')\n",
      "(u'lwe_thickness_of_precipitation_amount', u'mm')\n",
      "(u'air_temperature', u'celsius')\n",
      "(u'thickness_of_rainfall_amount', u'mm')\n",
      "(u'lwe_thickness_of_precipitation_amount', u'mm')\n",
      "(u'air_temperature', u'celsius')\n",
      "(u'air_temperature', u'celsius')\n",
      "(u'air_temperature', u'celsius')\n"
     ]
    }
   ],
   "source": [
    "for v in net.variables:\n",
    "    print(v.standard_name, v.unit)"
   ]
  },
  {
   "cell_type": "code",
   "execution_count": null,
   "metadata": {
    "collapsed": true
   },
   "outputs": [],
   "source": []
  }
 ],
 "metadata": {
  "kernelspec": {
   "display_name": "Python 2",
   "language": "python",
   "name": "python2"
  },
  "language_info": {
   "codemirror_mode": {
    "name": "ipython",
    "version": 2
   },
   "file_extension": ".py",
   "mimetype": "text/x-python",
   "name": "python",
   "nbconvert_exporter": "python",
   "pygments_lexer": "ipython2",
   "version": "2.7.9"
  }
 },
 "nbformat": 4,
 "nbformat_minor": 0
}
